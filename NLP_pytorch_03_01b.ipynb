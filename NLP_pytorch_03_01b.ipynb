{
  "nbformat": 4,
  "nbformat_minor": 0,
  "metadata": {
    "colab": {
      "provenance": [],
      "collapsed_sections": [],
      "include_colab_link": true
    },
    "kernelspec": {
      "name": "python3",
      "display_name": "Python 3"
    },
    "language_info": {
      "name": "python"
    },
    "accelerator": "GPU"
  },
  "cells": [
    {
      "cell_type": "markdown",
      "metadata": {
        "id": "view-in-github",
        "colab_type": "text"
      },
      "source": [
        "<a href=\"https://colab.research.google.com/github/yuanchaohu/Colab_learning/blob/main/NLP_pytorch_03_01b.ipynb\" target=\"_parent\"><img src=\"https://colab.research.google.com/assets/colab-badge.svg\" alt=\"Open In Colab\"/></a>"
      ]
    },
    {
      "cell_type": "code",
      "source": [
        "pip install torchtext==0.10.0"
      ],
      "metadata": {
        "colab": {
          "base_uri": "https://localhost:8080/",
          "height": 610
        },
        "id": "K2noqYb0rVNB",
        "outputId": "42c8f43c-a757-4657-9939-c5452a578180"
      },
      "execution_count": 6,
      "outputs": [
        {
          "output_type": "stream",
          "name": "stdout",
          "text": [
            "Looking in indexes: https://pypi.org/simple, https://us-python.pkg.dev/colab-wheels/public/simple/\n",
            "Collecting torchtext==0.10.0\n",
            "  Downloading torchtext-0.10.0-cp37-cp37m-manylinux1_x86_64.whl (7.6 MB)\n",
            "\u001b[K     |████████████████████████████████| 7.6 MB 29.8 MB/s \n",
            "\u001b[?25hRequirement already satisfied: requests in /usr/local/lib/python3.7/dist-packages (from torchtext==0.10.0) (2.23.0)\n",
            "Collecting torch==1.9.0\n",
            "  Downloading torch-1.9.0-cp37-cp37m-manylinux1_x86_64.whl (831.4 MB)\n",
            "\u001b[K     |████████████████████████████████| 831.4 MB 2.6 kB/s \n",
            "\u001b[?25hRequirement already satisfied: numpy in /usr/local/lib/python3.7/dist-packages (from torchtext==0.10.0) (1.21.6)\n",
            "Requirement already satisfied: tqdm in /usr/local/lib/python3.7/dist-packages (from torchtext==0.10.0) (4.64.1)\n",
            "Requirement already satisfied: typing-extensions in /usr/local/lib/python3.7/dist-packages (from torch==1.9.0->torchtext==0.10.0) (4.1.1)\n",
            "Requirement already satisfied: chardet<4,>=3.0.2 in /usr/local/lib/python3.7/dist-packages (from requests->torchtext==0.10.0) (3.0.4)\n",
            "Requirement already satisfied: urllib3!=1.25.0,!=1.25.1,<1.26,>=1.21.1 in /usr/local/lib/python3.7/dist-packages (from requests->torchtext==0.10.0) (1.24.3)\n",
            "Requirement already satisfied: idna<3,>=2.5 in /usr/local/lib/python3.7/dist-packages (from requests->torchtext==0.10.0) (2.10)\n",
            "Requirement already satisfied: certifi>=2017.4.17 in /usr/local/lib/python3.7/dist-packages (from requests->torchtext==0.10.0) (2022.9.24)\n",
            "Installing collected packages: torch, torchtext\n",
            "  Attempting uninstall: torch\n",
            "    Found existing installation: torch 1.12.1+cu113\n",
            "    Uninstalling torch-1.12.1+cu113:\n",
            "      Successfully uninstalled torch-1.12.1+cu113\n",
            "  Attempting uninstall: torchtext\n",
            "    Found existing installation: torchtext 0.13.1\n",
            "    Uninstalling torchtext-0.13.1:\n",
            "      Successfully uninstalled torchtext-0.13.1\n",
            "\u001b[31mERROR: pip's dependency resolver does not currently take into account all the packages that are installed. This behaviour is the source of the following dependency conflicts.\n",
            "torchvision 0.13.1+cu113 requires torch==1.12.1, but you have torch 1.9.0 which is incompatible.\n",
            "torchaudio 0.12.1+cu113 requires torch==1.12.1, but you have torch 1.9.0 which is incompatible.\u001b[0m\n",
            "Successfully installed torch-1.9.0 torchtext-0.10.0\n"
          ]
        },
        {
          "output_type": "display_data",
          "data": {
            "application/vnd.colab-display-data+json": {
              "pip_warning": {
                "packages": [
                  "torch",
                  "torchtext"
                ]
              }
            }
          },
          "metadata": {}
        }
      ]
    },
    {
      "cell_type": "code",
      "execution_count": 1,
      "metadata": {
        "id": "jZsFelMfohu_"
      },
      "outputs": [],
      "source": [
        "import torch as tc\n",
        "from torchtext.legacy import data, datasets\n",
        "import random"
      ]
    },
    {
      "cell_type": "code",
      "source": [
        "seed = 42\n",
        "tc.manual_seed(seed)\n",
        "\n",
        "device = tc.device('cuda' if tc.cuda.is_available() else 'cpu')\n",
        "print(device)"
      ],
      "metadata": {
        "id": "Htwa2BnOp7uy",
        "colab": {
          "base_uri": "https://localhost:8080/"
        },
        "outputId": "3271b676-6acc-46f3-baa6-4a3975fb069d"
      },
      "execution_count": 2,
      "outputs": [
        {
          "output_type": "stream",
          "name": "stdout",
          "text": [
            "cuda\n"
          ]
        }
      ]
    },
    {
      "cell_type": "markdown",
      "source": [
        "**Fields**\n",
        "\n",
        "[Check documentation](https://pytorch.org/text/_modules/torchtext/data/field.html)"
      ],
      "metadata": {
        "id": "IpsI5mzbiw_N"
      }
    },
    {
      "cell_type": "code",
      "source": [
        "# define fields\n",
        "TEXT = data.Field(tokenize='spacy', lower=True)"
      ],
      "metadata": {
        "id": "mkJfNKJWp-_a",
        "colab": {
          "base_uri": "https://localhost:8080/"
        },
        "outputId": "d9b0f7fb-c430-4aac-fa69-2e9af902fab5"
      },
      "execution_count": 3,
      "outputs": [
        {
          "output_type": "stream",
          "name": "stderr",
          "text": [
            "/usr/local/lib/python3.7/dist-packages/torchtext/data/utils.py:123: UserWarning: Spacy model \"en\" could not be loaded, trying \"en_core_web_sm\" instead\n",
            "  warnings.warn(f'Spacy model \"{language}\" could not be loaded, trying \"{OLD_MODEL_SHORTCUTS[language]}\" instead')\n"
          ]
        }
      ]
    },
    {
      "cell_type": "code",
      "source": [
        "TEXT"
      ],
      "metadata": {
        "colab": {
          "base_uri": "https://localhost:8080/"
        },
        "id": "7ctnbVGXr_4D",
        "outputId": "66b7f485-96d6-463c-898f-43b3eaa38d80"
      },
      "execution_count": 4,
      "outputs": [
        {
          "output_type": "execute_result",
          "data": {
            "text/plain": [
              "<torchtext.legacy.data.field.Field at 0x7f95dff0a590>"
            ]
          },
          "metadata": {},
          "execution_count": 4
        }
      ]
    },
    {
      "cell_type": "code",
      "source": [
        "LABEL = data.LabelField()\n",
        "LABEL"
      ],
      "metadata": {
        "colab": {
          "base_uri": "https://localhost:8080/"
        },
        "id": "iD6JCgKTsCZq",
        "outputId": "327136df-57bb-407d-a3a8-00ad746a6da6"
      },
      "execution_count": 5,
      "outputs": [
        {
          "output_type": "execute_result",
          "data": {
            "text/plain": [
              "<torchtext.legacy.data.field.LabelField at 0x7f94e3b94810>"
            ]
          },
          "metadata": {},
          "execution_count": 5
        }
      ]
    },
    {
      "cell_type": "markdown",
      "source": [
        "**Text REtrieval Conference (TREC) Question Classification Dataset**\n",
        "\n",
        "*Data Examples and Six Categories:*\n",
        "\n",
        "| Text | Label | Category |\n",
        "| --- | --- | --- |\n",
        "|CNN is the abbreviation for what ?|ABBR| ABBREVIATION |\n",
        "| What is the date of Boxing Day ? | NUM |NUMERIC|\n",
        "|Who discovered electricity ?| HUM |HUMAN|\n",
        "|What 's the colored part of the eye called ?|ENTY|ENTITY|\n",
        "|Why do horseshoes bring luck ?|DESC|DESCRIPTION|\n",
        "|What is California 's capital ?|LOC|LOCATION|"
      ],
      "metadata": {
        "id": "1cA0GOYlXyn7"
      }
    },
    {
      "cell_type": "code",
      "source": [],
      "metadata": {
        "id": "yiZKVF8JsBvx"
      },
      "execution_count": null,
      "outputs": []
    },
    {
      "cell_type": "code",
      "source": [
        "train, test = datasets.TREC.splits(TEXT, LABEL)\n",
        "train, val = train.split(random_state=random.seed(seed))"
      ],
      "metadata": {
        "id": "WegTcNYsp_vQ",
        "colab": {
          "base_uri": "https://localhost:8080/"
        },
        "outputId": "d82f0291-2228-467e-da5e-2a57141c54ca"
      },
      "execution_count": 6,
      "outputs": [
        {
          "output_type": "stream",
          "name": "stdout",
          "text": [
            "downloading train_5500.label\n"
          ]
        },
        {
          "output_type": "stream",
          "name": "stderr",
          "text": [
            "train_5500.label: 100%|██████████| 336k/336k [00:00<00:00, 13.4MB/s]\n"
          ]
        },
        {
          "output_type": "stream",
          "name": "stdout",
          "text": [
            "downloading TREC_10.label\n"
          ]
        },
        {
          "output_type": "stream",
          "name": "stderr",
          "text": [
            "TREC_10.label: 100%|██████████| 23.4k/23.4k [00:00<00:00, 27.8MB/s]\n"
          ]
        }
      ]
    },
    {
      "cell_type": "code",
      "source": [
        "vars(train[-1])"
      ],
      "metadata": {
        "id": "X7f7bzP1qCY5",
        "colab": {
          "base_uri": "https://localhost:8080/"
        },
        "outputId": "4c8c7a8d-108f-4f5c-8c2f-9b620af0a08a"
      },
      "execution_count": 7,
      "outputs": [
        {
          "output_type": "execute_result",
          "data": {
            "text/plain": [
              "{'text': ['in',\n",
              "  'order',\n",
              "  'from',\n",
              "  'the',\n",
              "  'top',\n",
              "  ',',\n",
              "  'the',\n",
              "  'four',\n",
              "  'stripes',\n",
              "  'on',\n",
              "  'a',\n",
              "  'can',\n",
              "  'of',\n",
              "  'pepsi',\n",
              "  'are',\n",
              "  'what',\n",
              "  'colors',\n",
              "  '?'],\n",
              " 'label': 'ENTY'}"
            ]
          },
          "metadata": {},
          "execution_count": 7
        }
      ]
    },
    {
      "cell_type": "code",
      "source": [
        "# build vocab\n",
        "TEXT.build_vocab(train, min_freq=2)\n",
        "LABEL.build_vocab(train)"
      ],
      "metadata": {
        "id": "-pbG4QBJqE4B"
      },
      "execution_count": 8,
      "outputs": []
    },
    {
      "cell_type": "code",
      "source": [
        "print(LABEL.vocab.stoi)"
      ],
      "metadata": {
        "id": "MOJPaDk04Lsl",
        "colab": {
          "base_uri": "https://localhost:8080/"
        },
        "outputId": "6a867465-4d27-4d1a-d436-4f1cae917c6f"
      },
      "execution_count": 9,
      "outputs": [
        {
          "output_type": "stream",
          "name": "stdout",
          "text": [
            "defaultdict(None, {'HUM': 0, 'ENTY': 1, 'DESC': 2, 'NUM': 3, 'LOC': 4, 'ABBR': 5})\n"
          ]
        }
      ]
    },
    {
      "cell_type": "code",
      "source": [
        "print(\"Vocabulary size of TEXT:\",len(TEXT.vocab.stoi))\n",
        "print(\"Vocabulary size of LABEL:\",len(LABEL.vocab.stoi))"
      ],
      "metadata": {
        "id": "rC6vaKQjqJBp",
        "colab": {
          "base_uri": "https://localhost:8080/"
        },
        "outputId": "5e6c1fb4-674b-49f6-db9f-bbfed066044d"
      },
      "execution_count": 10,
      "outputs": [
        {
          "output_type": "stream",
          "name": "stdout",
          "text": [
            "Vocabulary size of TEXT: 2684\n",
            "Vocabulary size of LABEL: 6\n"
          ]
        }
      ]
    },
    {
      "cell_type": "code",
      "source": [
        "train_iterator, valid_iterator, test_iterator = data.BucketIterator.splits(\n",
        "    (train, val, test),\n",
        "    batch_size = 64,\n",
        "    sort_key=lambda x: len(x.text), \n",
        "    device=device\n",
        ")"
      ],
      "metadata": {
        "id": "hE20ZBrjqJkY"
      },
      "execution_count": 11,
      "outputs": []
    },
    {
      "cell_type": "code",
      "source": [],
      "metadata": {
        "id": "srtp1aRnQrXW"
      },
      "execution_count": null,
      "outputs": []
    }
  ]
}