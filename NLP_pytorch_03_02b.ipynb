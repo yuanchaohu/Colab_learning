{
  "nbformat": 4,
  "nbformat_minor": 0,
  "metadata": {
    "colab": {
      "provenance": [],
      "collapsed_sections": [],
      "private_outputs": true,
      "include_colab_link": true
    },
    "kernelspec": {
      "name": "python3",
      "display_name": "Python 3"
    },
    "language_info": {
      "name": "python"
    },
    "accelerator": "GPU"
  },
  "cells": [
    {
      "cell_type": "markdown",
      "metadata": {
        "id": "view-in-github",
        "colab_type": "text"
      },
      "source": [
        "<a href=\"https://colab.research.google.com/github/yuanchaohu/Colab_learning/blob/main/NLP_pytorch_03_02b.ipynb\" target=\"_parent\"><img src=\"https://colab.research.google.com/assets/colab-badge.svg\" alt=\"Open In Colab\"/></a>"
      ]
    },
    {
      "cell_type": "code",
      "execution_count": null,
      "metadata": {
        "id": "cbAq1tpSrnar"
      },
      "outputs": [],
      "source": [
        "import torch\n",
        "import torch.nn as nn\n",
        "import torch.nn.functional as F"
      ]
    },
    {
      "cell_type": "code",
      "source": [
        "from torch.nn.modules import conv\n",
        "class CNN(nn.Module):\n",
        "  def __init__(self, vocabulary_size, embedding_size, \n",
        "               kernels_number, kernel_sizes, output_size, dropout_rate):\n",
        "      super().__init__()\n",
        "      self.embedding = nn.Embedding(vocabulary_size, embedding_size)\n",
        "      self.convolution_layers = nn.ModuleList([\n",
        "          nn.Conv2d(in_channels=1,\n",
        "                    out_channels=kernels_number,\n",
        "                    kernel_size=(k, embedding_size))\n",
        "                    for k in kernel_sizes])\n",
        "      self.dropout = nn.Dropout(dropout_rate)\n",
        "      self.fully_connected = nn.Linear(len(kernel_sizes) * kernels_number, output_size)\n",
        "\n",
        "  def forward(self, text):\n",
        "      text = text.permute(1, 0)\n",
        "      input_embeddings = self.embedding(text)\n",
        "      input_embeddings = input_embeddings.unsqueeze(1)\n",
        "      conved = [F.relu(convolution_layer(input_embeddings)).squeeze(3)\n",
        "                for convolution_layer in self.convolution_layers]\n",
        "      pooled = [F.max_pool1d(conv, conv.shape[2]).squeeze(2) for conv in conved]\n",
        "      concat = self.dropout(torch.cat(pooled, dim=1))\n",
        "      final_output = self.fully_connected(concat)\n",
        "\n",
        "      return final_output"
      ],
      "metadata": {
        "id": "mDoCrHvPrxKk"
      },
      "execution_count": null,
      "outputs": []
    },
    {
      "cell_type": "code",
      "source": [
        "vocabulary_size = 2679\n",
        "embedding_size = 100\n",
        "kernels_number = 100\n",
        "kernel_sizes = [2, 3, 4]\n",
        "output_size = 6\n",
        "dropout_rate = 0.3"
      ],
      "metadata": {
        "id": "-8b0FH6Yr1HA"
      },
      "execution_count": null,
      "outputs": []
    },
    {
      "cell_type": "code",
      "source": [
        "model = CNN(vocabulary_size, embedding_size, kernels_number, kernel_sizes, output_size, dropout_rate)"
      ],
      "metadata": {
        "id": "PdpHub1rr3Pp"
      },
      "execution_count": null,
      "outputs": []
    },
    {
      "cell_type": "code",
      "source": [
        "print(model)"
      ],
      "metadata": {
        "id": "1NfUcAWxsAgw"
      },
      "execution_count": null,
      "outputs": []
    },
    {
      "cell_type": "code",
      "source": [
        "device = torch.device('cuda' if torch.cuda.is_available() else 'cpu')\n",
        "model.to(device)"
      ],
      "metadata": {
        "id": "WDI9_CPfsGiK"
      },
      "execution_count": null,
      "outputs": []
    },
    {
      "cell_type": "code",
      "source": [],
      "metadata": {
        "id": "kn4HPLNYxI4f"
      },
      "execution_count": null,
      "outputs": []
    },
    {
      "cell_type": "code",
      "source": [
        "import torch.optim as optim\n",
        "import torch.nn as nn"
      ],
      "metadata": {
        "id": "t--xvRPFxR6p"
      },
      "execution_count": null,
      "outputs": []
    },
    {
      "cell_type": "code",
      "source": [
        "criterion = nn.CrossEntropyLoss()\n",
        "criterion = criterion.to(device)"
      ],
      "metadata": {
        "id": "yZSnQk22z98c"
      },
      "execution_count": null,
      "outputs": []
    },
    {
      "cell_type": "code",
      "source": [
        "optimizer = optim.Adam(model.parameters())"
      ],
      "metadata": {
        "id": "7hl5x2EA0M_f"
      },
      "execution_count": null,
      "outputs": []
    },
    {
      "cell_type": "code",
      "source": [
        "criterion"
      ],
      "metadata": {
        "id": "8Gipdd7f0XTh"
      },
      "execution_count": null,
      "outputs": []
    },
    {
      "cell_type": "code",
      "source": [
        "optimizer"
      ],
      "metadata": {
        "id": "xcotMS_p0YdZ"
      },
      "execution_count": null,
      "outputs": []
    },
    {
      "cell_type": "code",
      "source": [
        "def accuracy(predictions, actual_label):\n",
        "    max_predictions = predictions.argmax(dim=1, keepdim = True,)\n",
        "    correct_predictions = max_predictions.squeeze(1).eq(actual_label)\n",
        "    accuracy = correct_predictions.sum() / torch.cuda.FloatTensor([actual_label.shape[0]])\n",
        "    return accuracy"
      ],
      "metadata": {
        "id": "QVxPFYIo0ZuB"
      },
      "execution_count": null,
      "outputs": []
    },
    {
      "cell_type": "code",
      "source": [
        "def train(model, iterator, optimizer, criterion):\n",
        "    model.train()\n",
        "    epoch_loss = 0\n",
        "    epoch_acc = 0\n",
        "    for batch in iterator:\n",
        "        optimizer.zero_grad()\n",
        "        predictions = model(batch.text)\n",
        "        loss = criterion(predictions, batch.label)\n",
        "        acc = accuracy(predictions, batch.label)\n",
        "\n",
        "        loss.backward()\n",
        "\n",
        "        optimizer.step()\n",
        "\n",
        "        epoch_loss += loss.item()\n",
        "        epoch_acc  += acc.item()\n",
        "    \n",
        "    return epoch_loss/len(iterator), epoch_acc/len(iterator)"
      ],
      "metadata": {
        "id": "Ez540i8M058i"
      },
      "execution_count": null,
      "outputs": []
    },
    {
      "cell_type": "code",
      "source": [
        "def evaluate(model, iterator, criterion):\n",
        "    model.eval()\n",
        "    epoch_loss = 0\n",
        "    epoch_acc = 0\n",
        "\n",
        "    with torch.no_grad():\n",
        "        for batch in iterator:\n",
        "            predictions = model(batch.text)\n",
        "\n",
        "            loss = criterion(predictions, batch.label)\n",
        "\n",
        "            acc = accuracy(predictions, batch.label)\n",
        "\n",
        "            epoch_loss += loss.item()\n",
        "            epoch_acc  += acc.item()\n",
        "        \n",
        "        return epoch_loss/len(iterator), epoch_acc/len(iterator)"
      ],
      "metadata": {
        "id": "RT_2YL_g13yH"
      },
      "execution_count": null,
      "outputs": []
    },
    {
      "cell_type": "code",
      "source": [
        "number_of_epochs = 10\n",
        "\n",
        "best_acc = float('-inf')\n",
        "\n",
        "for epoch in range(number_of_epochs):\n",
        "\n",
        "    train_loss, train_acc = train(model, train_, optimizer, criterion)\n",
        "    valid_loss, valid_acc = evaluate(model, iterator, criterion)\n",
        "\n",
        "    if valid_acc > best_acc:\n",
        "        \n",
        "        torch.save(model.state_dict())"
      ],
      "metadata": {
        "id": "KJBH5bKs2kFg"
      },
      "execution_count": null,
      "outputs": []
    }
  ]
}