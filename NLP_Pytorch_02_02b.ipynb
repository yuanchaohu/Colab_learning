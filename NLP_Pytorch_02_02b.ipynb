{
  "nbformat": 4,
  "nbformat_minor": 0,
  "metadata": {
    "colab": {
      "provenance": [],
      "collapsed_sections": [],
      "include_colab_link": true
    },
    "kernelspec": {
      "name": "python3",
      "display_name": "Python 3"
    },
    "language_info": {
      "name": "python"
    }
  },
  "cells": [
    {
      "cell_type": "markdown",
      "metadata": {
        "id": "view-in-github",
        "colab_type": "text"
      },
      "source": [
        "<a href=\"https://colab.research.google.com/github/yuanchaohu/Colab_learning/blob/main/NLP_Pytorch_02_02b.ipynb\" target=\"_parent\"><img src=\"https://colab.research.google.com/assets/colab-badge.svg\" alt=\"Open In Colab\"/></a>"
      ]
    },
    {
      "cell_type": "markdown",
      "metadata": {
        "id": "NCYsbCuZ5ZcD"
      },
      "source": [
        "**PyTorch tensor**\n",
        "\n",
        "A tensor is a data structure or data container we use in PyTorch for carrying arrays of numbers.\n",
        "\n",
        "**a. Creating a tensor**"
      ]
    },
    {
      "cell_type": "code",
      "source": [
        "pip install torch"
      ],
      "metadata": {
        "id": "4QDcgyo1p3E1",
        "colab": {
          "base_uri": "https://localhost:8080/"
        },
        "outputId": "1215599c-9d3e-4fbd-8d4b-49f378c86f22"
      },
      "execution_count": 1,
      "outputs": [
        {
          "output_type": "stream",
          "name": "stdout",
          "text": [
            "Looking in indexes: https://pypi.org/simple, https://us-python.pkg.dev/colab-wheels/public/simple/\n",
            "Requirement already satisfied: torch in /usr/local/lib/python3.7/dist-packages (1.12.1+cu113)\n",
            "Requirement already satisfied: typing-extensions in /usr/local/lib/python3.7/dist-packages (from torch) (4.1.1)\n"
          ]
        }
      ]
    },
    {
      "cell_type": "code",
      "metadata": {
        "id": "CuV5OrPJ8aTG"
      },
      "source": [
        "import torch\n",
        "import numpy as np"
      ],
      "execution_count": 2,
      "outputs": []
    },
    {
      "cell_type": "code",
      "source": [
        "# Construct a tensor from an array\n",
        "array = [[1, 2], [7, 4], [5, 6]]\n",
        "tensor0 = torch.tensor(array)\n",
        "print(tensor0)\n",
        "print(\"The data structure type of tensor0: \", type(tensor0))\n",
        "print(\"The data type of tensor0: \", tensor0.dtype)\n",
        "print(\"The shape of tensor0: \", tensor0.shape)"
      ],
      "metadata": {
        "id": "W2a2Pv03VC6T",
        "colab": {
          "base_uri": "https://localhost:8080/"
        },
        "outputId": "61875a8c-6573-47e2-dd6f-3205d3198d56"
      },
      "execution_count": 3,
      "outputs": [
        {
          "output_type": "stream",
          "name": "stdout",
          "text": [
            "tensor([[1, 2],\n",
            "        [7, 4],\n",
            "        [5, 6]])\n",
            "The data structure type of tensor0:  <class 'torch.Tensor'>\n",
            "The data type of tensor0:  torch.int64\n",
            "The shape of tensor0:  torch.Size([3, 2])\n"
          ]
        }
      ]
    },
    {
      "cell_type": "code",
      "metadata": {
        "id": "RJbcImRI8ccN",
        "colab": {
          "base_uri": "https://localhost:8080/"
        },
        "outputId": "077ff785-d282-47ef-997b-f6681056fad4"
      },
      "source": [
        "# Construct a tensor from a numpy array\n",
        "np_array = np.array([[1, 2], [7, 4], [5, 6]])\n",
        "tensor1 = torch.tensor(np_array)\n",
        "print(tensor1)"
      ],
      "execution_count": 4,
      "outputs": [
        {
          "output_type": "stream",
          "name": "stdout",
          "text": [
            "tensor([[1, 2],\n",
            "        [7, 4],\n",
            "        [5, 6]])\n"
          ]
        }
      ]
    },
    {
      "cell_type": "markdown",
      "metadata": {
        "id": "0aLWNPD36Xhk"
      },
      "source": [
        "**b. Common Methods: Slicing and Concatenation**\n",
        "\n",
        "*Slicing*"
      ]
    },
    {
      "cell_type": "code",
      "source": [
        "tensorA = torch.tensor([[1, 1, 1], [2, 2, 2]])\n",
        "tensorB = torch.tensor([[3, 3, 3], [4, 4, 4]])"
      ],
      "metadata": {
        "id": "Ih8oB57hsDaT"
      },
      "execution_count": 5,
      "outputs": []
    },
    {
      "cell_type": "code",
      "metadata": {
        "id": "YsXfH05t9eY8",
        "colab": {
          "base_uri": "https://localhost:8080/"
        },
        "outputId": "e579b5a5-a651-47af-af38-6672b61268e7"
      },
      "source": [
        "# Slicing is all the same as numpy arrays\n",
        "print('Slicing the first two rows of tensorA (index one inclusive index two exclusive): ')\n",
        "print(tensorA[:2])\n",
        "print('Slicing the first two columns of tensorA (take all rows, then slice columns): ')\n",
        "print(tensorB[:, :2])"
      ],
      "execution_count": 6,
      "outputs": [
        {
          "output_type": "stream",
          "name": "stdout",
          "text": [
            "Slicing the first two rows of tensorA (index one inclusive index two exclusive): \n",
            "tensor([[1, 1, 1],\n",
            "        [2, 2, 2]])\n",
            "Slicing the first two columns of tensorA (take all rows, then slice columns): \n",
            "tensor([[3, 3],\n",
            "        [4, 4]])\n"
          ]
        }
      ]
    },
    {
      "cell_type": "markdown",
      "source": [
        "*Concatenation*"
      ],
      "metadata": {
        "id": "Hn4NdJvuciFW"
      }
    },
    {
      "cell_type": "code",
      "metadata": {
        "id": "WLUhrXYoFn53",
        "colab": {
          "base_uri": "https://localhost:8080/"
        },
        "outputId": "b00d923a-b3a6-4792-9437-e95b12a29851"
      },
      "source": [
        "print('Vertically concatenate tensorA and tensorB: (default: dim=0)')\n",
        "concat_v = torch.cat([tensorA, tensorB])\n",
        "print(concat_v)"
      ],
      "execution_count": 7,
      "outputs": [
        {
          "output_type": "stream",
          "name": "stdout",
          "text": [
            "Vertically concatenate tensorA and tensorB: (default: dim=0)\n",
            "tensor([[1, 1, 1],\n",
            "        [2, 2, 2],\n",
            "        [3, 3, 3],\n",
            "        [4, 4, 4]])\n"
          ]
        }
      ]
    },
    {
      "cell_type": "code",
      "metadata": {
        "id": "FzU279m9GbEj",
        "colab": {
          "base_uri": "https://localhost:8080/"
        },
        "outputId": "60331bc3-cbde-4c8b-b915-2a7896ac9646"
      },
      "source": [
        "print('Horizontally concatenate tensorA and tensorB: (dim=1)')\n",
        "concat_h = torch.cat([tensorA, tensorB], dim=1)\n",
        "print(concat_h)"
      ],
      "execution_count": 8,
      "outputs": [
        {
          "output_type": "stream",
          "name": "stdout",
          "text": [
            "Horizontally concatenate tensorA and tensorB: (dim=1)\n",
            "tensor([[1, 1, 1, 3, 3, 3],\n",
            "        [2, 2, 2, 4, 4, 4]])\n"
          ]
        }
      ]
    },
    {
      "cell_type": "code",
      "source": [],
      "metadata": {
        "id": "f_QOX2MwloGy"
      },
      "execution_count": null,
      "outputs": []
    }
  ]
}